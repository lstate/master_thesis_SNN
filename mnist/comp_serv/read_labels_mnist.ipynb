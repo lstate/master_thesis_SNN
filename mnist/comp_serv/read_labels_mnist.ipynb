{
 "cells": [
  {
   "cell_type": "code",
   "execution_count": 1,
   "metadata": {
    "collapsed": true
   },
   "outputs": [],
   "source": [
    "import gzip\n",
    "import numpy as np\n",
    "import matplotlib.pyplot as plt\n",
    "import copy\n",
    "\n",
    "# A: when filtering for a specific digit: enable labels_2 and put in int(indices[a]) to get the right image data\n",
    "# A: carefully change ALL FILE NAMES\n",
    "# A: every txt file is a new file"
   ]
  },
  {
   "cell_type": "code",
   "execution_count": 3,
   "metadata": {},
   "outputs": [],
   "source": [
    "# read TRAINING SET labels and get indices for those equalling a speacial number\n",
    "\n",
    "f = gzip.open('train-labels-idx1-ubyte.gz','r')\n",
    "f.read(8)\n",
    "\n",
    "buf = f.read(60000) \n",
    "labels = np.frombuffer(buf, dtype=np.uint8).astype(np.int64)\n",
    "\n",
    "np.savetxt('indices_all.txt', labels)"
   ]
  },
  {
   "cell_type": "code",
   "execution_count": 4,
   "metadata": {
    "collapsed": true
   },
   "outputs": [],
   "source": [
    "# read TEST SET labels and get indices for those equalling a speacial number\n",
    "\n",
    "# A: every txt file is a new file\n",
    "\n",
    "f = gzip.open('t10k-labels-idx1-ubyte.gz','r')\n",
    "f.read(8)\n",
    "\n",
    "buf = f.read(60000) \n",
    "labels = np.frombuffer(buf, dtype=np.uint8).astype(np.int64)\n",
    "\n",
    "np.savetxt('indices_all_test.txt', labels)"
   ]
  },
  {
   "cell_type": "code",
   "execution_count": null,
   "metadata": {
    "collapsed": true
   },
   "outputs": [],
   "source": []
  }
 ],
 "metadata": {
  "kernelspec": {
   "display_name": "Python 3",
   "language": "python",
   "name": "python3"
  },
  "language_info": {
   "codemirror_mode": {
    "name": "ipython",
    "version": 3
   },
   "file_extension": ".py",
   "mimetype": "text/x-python",
   "name": "python",
   "nbconvert_exporter": "python",
   "pygments_lexer": "ipython3",
   "version": "3.6.4"
  }
 },
 "nbformat": 4,
 "nbformat_minor": 2
}
